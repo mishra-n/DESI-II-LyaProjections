{
 "cells": [
  {
   "cell_type": "code",
   "execution_count": 1,
   "id": "9ba68fde-60c1-46a7-86eb-371b41a56979",
   "metadata": {},
   "outputs": [],
   "source": [
    "import numpy as np\n",
    "import matplotlib.pyplot as plt\n",
    "import scipy.interpolate as interp\n",
    "import scipy.integrate as integrate\n",
    "import os\n",
    "import theoryLya as tLya\n",
    "import Spectrograph as spectrograph\n",
    "import Survey as survey\n",
    "import effectiveStatistics as effStats\n",
    "\n",
    "os.environ['PATH'] = '/global/common/sw/cray/sles15/x86_64/texlive/live/gcc/8.2.0/tiozj27/bin/x86_64-linux/:{}'.format(os.environ['PATH'])\n",
    "\n",
    "from matplotlib import rc\n",
    "import matplotlib.cm as cm\n",
    "rc('font',**{'size':'20','family':'serif','serif':['CMU serif']})\n",
    "rc('mathtext', **{'fontset':'cm'})\n",
    "rc('text', usetex=True)\n",
    "rc('legend',**{'fontsize':'13'})\n",
    "\n",
    "import camb\n",
    "from camb import model, initialpower"
   ]
  },
  {
   "cell_type": "code",
   "execution_count": 2,
   "id": "a2690bc4-67d2-4588-b7eb-922ff8ef7278",
   "metadata": {},
   "outputs": [],
   "source": [
    "from astropy.table import Table\n",
    "\n",
    "tt=Table.read('lya-snr-guadalupe.fits')\n",
    "\n",
    "qso=tt[ (tt['Z']>2.4)&(tt['Z']<2.6) ]"
   ]
  },
  {
   "cell_type": "code",
   "execution_count": null,
   "id": "8ded40ec-89de-49b5-a4b9-0cf65811eab2",
   "metadata": {},
   "outputs": [
    {
     "name": "stderr",
     "output_type": "stream",
     "text": [
      "WARNING:root:get_matter_power_spectrum using larger k_max than input parameter Transfer.kmax\n"
     ]
    }
   ],
   "source": [
    "theory=tLya.theoryLya()\n",
    "DESI1_survey = survey.Survey(nzr_file='./nzs/nzr_qso.dat', survey_A=16000)\n",
    "#SNR Values from Path are overidden for guadalupe data below\n",
    "path = \"/global/homes/n/nishant/DESI2_LyaProjections/DESI-II-lyaforecast/build/lib/desi_SNR/\"\n",
    "DESI_instrument = spectrograph.Spectrograph(theory, path)\n",
    "#survey area in sq degrees\n",
    "DESI1 = effStats.effectiveStatistics(theory, DESI1_survey, DESI_instrument)"
   ]
  },
  {
   "cell_type": "code",
   "execution_count": null,
   "id": "2f62efd9-2103-487f-af8d-28aee1b170ce",
   "metadata": {},
   "outputs": [],
   "source": [
    "nu_n_guad = np.zeros(shape=len(qso))\n",
    "\n",
    "for i, item in enumerate(qso):\n",
    "    nu_n_guad[i] = DESI1.v_n(4000, 22.25, item['Z'], k=0.15, SNR=item['SNR'] * DESI1.theoryLya.meanFlux(item['Z'])**2)"
   ]
  },
  {
   "cell_type": "code",
   "execution_count": null,
   "id": "d1eade10-723f-4402-9ca0-989b343aec9e",
   "metadata": {},
   "outputs": [],
   "source": [
    "times = range(5000,17000,1000)\n",
    "nu_n_guad2 = np.zeros(shape=(len(qso), len(times)))\n",
    "\n",
    "for j, time in enumerate(times):\n",
    "    for i, item in enumerate(qso):\n",
    "        nu_n_guad2[i,j] = DESI1.v_n(4000, 22.25, item['Z'], k=0.15, SNR=item['SNR'] * np.sqrt(time/4000) * DESI1.theoryLya.meanFlux(item['Z'])**2)\n",
    "        \n",
    "\n",
    "    \n"
   ]
  },
  {
   "cell_type": "code",
   "execution_count": null,
   "id": "ea6e4b4a-d47d-4ed1-b4cb-c7c7e6aad69b",
   "metadata": {},
   "outputs": [],
   "source": [
    "diff = np.zeros(shape=(len(qso), len(times)))\n",
    "temp = nu_n_guad\n",
    "for i in range(12):\n",
    "    diff[:,i] = nu_n_guad2[:,i] - temp\n",
    "    temp = nu_n_guad2[:,i]\n",
    "    "
   ]
  },
  {
   "cell_type": "code",
   "execution_count": null,
   "id": "3e06c1d1-9e9f-490b-9a22-374bdbcb16a0",
   "metadata": {},
   "outputs": [],
   "source": [
    "for i in range(12):\n",
    "    \n",
    "    plt.hist(diff[:,i], bins=np.linspace(min(diff.flatten()),max(diff.flatten()), 50), alpha=0.5, label=str(i+1) + \" extra 1000 seconds\")\n",
    "\n",
    "plt.xlabel(r'$\\Delta \\nu_{n}$')\n",
    "plt.ylabel('count')\n",
    "plt.legend()\n",
    "plt.show()"
   ]
  },
  {
   "cell_type": "code",
   "execution_count": null,
   "id": "422f8f7b-a984-4558-a1fb-1969a86caab5",
   "metadata": {},
   "outputs": [],
   "source": [
    "plt.hist(-diff ,stacked=True, bins=np.linspace(min(-diff.flatten()),max(-diff.flatten()), 50), label=(str(i+1) + \" extra 1000 seconds\"))\n",
    "plt.xlabel(r'$-\\Delta \\nu_{n}$')\n",
    "plt.ylabel('PDF')\n",
    "plt.legend()\n",
    "plt.show()"
   ]
  },
  {
   "cell_type": "code",
   "execution_count": null,
   "id": "dc74264f-8e36-4fa3-804b-9742a34781bd",
   "metadata": {},
   "outputs": [],
   "source": [
    "plt.hist(-diff,stacked=True, cumulative=True, bins=np.linspace(min(-diff.flatten()),max(-diff.flatten()), 200), label=(str(i+1) + \" extra 1000 seconds\"))\n",
    "plt.xlabel(r'$-\\Delta \\nu_{n}$')\n",
    "plt.ylabel('CDF')\n",
    "plt.show()"
   ]
  },
  {
   "cell_type": "code",
   "execution_count": null,
   "id": "399e0af2-d7ef-41cf-a7c2-4449d41c1224",
   "metadata": {},
   "outputs": [],
   "source": [
    "n, bins, patches = plt.hist(nu_n_guad, bins=50, density=True)\n",
    "plt.xlabel(r'$\\nu_{n}$')\n",
    "plt.ylabel('PDF')\n",
    "plt.show()"
   ]
  },
  {
   "cell_type": "code",
   "execution_count": null,
   "id": "e2a1cfb4-8331-4f88-9428-8de96810dca4",
   "metadata": {},
   "outputs": [],
   "source": [
    "n, bins, patches = plt.hist(nu_n_guad, bins=np.linspace(0,1,51), density=True, cumulative=True)\n",
    "plt.xlabel(r'$\\nu_{n}$')\n",
    "plt.ylabel('CDF')\n",
    "plt.show()"
   ]
  },
  {
   "cell_type": "code",
   "execution_count": null,
   "id": "04e046e7-24c1-4df6-bf47-cb008da7d14d",
   "metadata": {},
   "outputs": [],
   "source": []
  }
 ],
 "metadata": {
  "kernelspec": {
   "display_name": "DESI2-Lya",
   "language": "python",
   "name": "desi2-lya"
  },
  "language_info": {
   "codemirror_mode": {
    "name": "ipython",
    "version": 3
   },
   "file_extension": ".py",
   "mimetype": "text/x-python",
   "name": "python",
   "nbconvert_exporter": "python",
   "pygments_lexer": "ipython3",
   "version": "3.9.7"
  }
 },
 "nbformat": 4,
 "nbformat_minor": 5
}
